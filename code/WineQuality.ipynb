{
 "cells": [
  {
   "cell_type": "markdown",
   "metadata": {},
   "source": [
    "# Wine Quality Classification"
   ]
  },
  {
   "cell_type": "code",
   "execution_count": 115,
   "metadata": {},
   "outputs": [
    {
     "data": {
      "text/plain": [
       "<module 'mysklearn.myevaluation' from '/home/finalProject/DSGroupProject/code/mysklearn/myevaluation.py'>"
      ]
     },
     "execution_count": 115,
     "metadata": {},
     "output_type": "execute_result"
    }
   ],
   "source": [
    "# some useful mysklearn package import statements and reloads\n",
    "import importlib\n",
    "\n",
    "import mysklearn.myutils\n",
    "importlib.reload(mysklearn.myutils)\n",
    "import mysklearn.myutils as myutils\n",
    "\n",
    "# uncomment once you paste your mypytable.py into mysklearn package\n",
    "import mysklearn.mypytable\n",
    "importlib.reload(mysklearn.mypytable)\n",
    "from mysklearn.mypytable import MyPyTable \n",
    "\n",
    "# uncomment once you paste your myclassifiers.py into mysklearn package\n",
    "import mysklearn.myclassifiers\n",
    "importlib.reload(mysklearn.myclassifiers)\n",
    "from mysklearn.myclassifiers import MyKNeighborsClassifier, MyDummyClassifier, MyNaiveBayesClassifier, MyDecisionTreeClassifier, MyRandomForestClassifier\n",
    "\n",
    "import mysklearn.myevaluation as myevaluation\n",
    "importlib.reload(myevaluation)"
   ]
  },
  {
   "cell_type": "markdown",
   "metadata": {},
   "source": [
    "### Preprocessing"
   ]
  },
  {
   "cell_type": "code",
   "execution_count": 116,
   "metadata": {},
   "outputs": [],
   "source": [
    "import copy\n",
    "dataset = MyPyTable().load_from_file('./data/WineQT.csv')\n",
    "# X = dataset.get_normalized_columns(['fixed acidity', 'volatile acidity', 'citric acid', 'residual sugar', 'chlorides', 'free sulfur dioxide', 'total sulfur dioxide', 'density', 'pH', 'sulphates', 'alcohol'])\n",
    "X = dataset.get_columns(['fixed acidity', 'volatile acidity', 'citric acid', 'residual sugar', 'chlorides', 'free sulfur dioxide', 'total sulfur dioxide', 'density', 'pH', 'sulphates', 'alcohol'])\n",
    "y = dataset.get_column('quality')\n",
    "binned_X_cols = []\n",
    "for col in range(len(X[0])):\n",
    "    column = [row[col] for row in X]\n",
    "    binned = myutils.bin_data(column)\n",
    "    binned_X_cols.append(binned)\n",
    "binned_X = []\n",
    "for i in range(len(binned_X_cols)):\n",
    "    row = [item[i] for item in binned_X_cols]\n",
    "    binned_X.append(row)\n",
    "X = binned_X"
   ]
  },
  {
   "cell_type": "markdown",
   "metadata": {},
   "source": [
    "### K-Nearest Neighbors"
   ]
  },
  {
   "cell_type": "code",
   "execution_count": 117,
   "metadata": {},
   "outputs": [
    {
     "name": "stdout",
     "output_type": "stream",
     "text": [
      "Accuracy: 0.5454545454545454\n",
      "Error rate: 0.4545454545454546\n"
     ]
    }
   ],
   "source": [
    "myutils.evaluate_model(MyKNeighborsClassifier(), X, y)"
   ]
  },
  {
   "cell_type": "markdown",
   "metadata": {},
   "source": [
    "### Dummy Classifier"
   ]
  },
  {
   "cell_type": "code",
   "execution_count": 118,
   "metadata": {},
   "outputs": [
    {
     "name": "stdout",
     "output_type": "stream",
     "text": [
      "Accuracy: 0.7272727272727273\n",
      "Error rate: 0.2727272727272727\n"
     ]
    }
   ],
   "source": [
    "myutils.evaluate_model(MyDummyClassifier(), X, y)"
   ]
  },
  {
   "cell_type": "markdown",
   "metadata": {},
   "source": [
    "### Naive Bayes"
   ]
  },
  {
   "cell_type": "code",
   "execution_count": 119,
   "metadata": {},
   "outputs": [
    {
     "name": "stdout",
     "output_type": "stream",
     "text": [
      "Accuracy: 0.2727272727272727\n",
      "Error rate: 0.7272727272727273\n"
     ]
    }
   ],
   "source": [
    "myutils.evaluate_model(MyNaiveBayesClassifier(), X, y)"
   ]
  },
  {
   "cell_type": "markdown",
   "metadata": {},
   "source": [
    "### Decision Tree"
   ]
  },
  {
   "cell_type": "code",
   "execution_count": 120,
   "metadata": {},
   "outputs": [
    {
     "name": "stdout",
     "output_type": "stream",
     "text": [
      "Accuracy: 0.6363636363636364\n",
      "Error rate: 0.36363636363636365\n"
     ]
    }
   ],
   "source": [
    "myutils.evaluate_model(MyDecisionTreeClassifier(), X, y)"
   ]
  },
  {
   "cell_type": "markdown",
   "metadata": {},
   "source": [
    "### Random Forest"
   ]
  },
  {
   "cell_type": "code",
   "execution_count": 121,
   "metadata": {},
   "outputs": [
    {
     "name": "stdout",
     "output_type": "stream",
     "text": [
      "5.0\n",
      "5.0\n",
      "5.0\n",
      "5.0\n",
      "5.0\n",
      "5.0\n",
      "5.0\n",
      "5.0\n",
      "5.0\n",
      "5.0\n",
      "6.0\n",
      "None\n",
      "6.0\n",
      "5.0\n",
      "None\n",
      "None\n",
      "None\n",
      "5.0\n",
      "None\n",
      "5.0\n",
      "5.0\n",
      "5.0\n",
      "5.0\n",
      "5.0\n",
      "None\n",
      "7.0\n",
      "5.0\n",
      "7.0\n",
      "5.0\n",
      "7.0\n",
      "5.0\n",
      "5.0\n",
      "5.0\n",
      "None\n",
      "5.0\n",
      "5.0\n",
      "5.0\n",
      "5.0\n",
      "5.0\n",
      "7.0\n",
      "7.0\n",
      "5.0\n",
      "5.0\n",
      "5.0\n",
      "5.0\n",
      "5.0\n",
      "5.0\n",
      "5.0\n",
      "5.0\n",
      "5.0\n",
      "5.0\n",
      "5.0\n",
      "7.0\n",
      "5.0\n",
      "None\n",
      "Accuracy: 0.5454545454545454\n",
      "Error rate: 0.4545454545454546\n"
     ]
    }
   ],
   "source": [
    "myutils.evaluate_model(MyRandomForestClassifier(n_trees=20, m=5, f=3), X, y)"
   ]
  },
  {
   "cell_type": "code",
   "execution_count": 122,
   "metadata": {},
   "outputs": [
    {
     "name": "stdout",
     "output_type": "stream",
     "text": [
      "IF att2 == 0 AND att6 == 0 THEN class = 5.0\n",
      "IF att2 == 0 AND att6 == 1 THEN class = 5.0\n",
      "IF att2 == 0 AND att6 == 2 THEN class = 5.0\n",
      "IF att2 == 5 THEN class = 6.0\n",
      "IF att9 == 0 THEN class = 5.0\n",
      "IF att9 == 1 THEN class = 5.0\n",
      "IF att9 == 2 THEN class = 5.0\n",
      "IF att2 == 0 AND att8 == 3 THEN class = 5.0\n",
      "IF att2 == 0 AND att8 == 4 THEN class = 5.0\n",
      "IF att2 == 0 AND att8 == 6 THEN class = 5.0\n",
      "IF att2 == 5 THEN class = 6.0\n",
      "IF att1 == 3 THEN class = 5.0\n",
      "IF att1 == 4 THEN class = 5.0\n",
      "IF att1 == 5 THEN class = 5.0\n",
      "IF att7 == 3 AND att0 == 0 THEN class = 5.0\n",
      "IF att7 == 3 AND att0 == 2 THEN class = 7.0\n",
      "IF att7 == 4 THEN class = 5.0\n",
      "IF att7 == 5 THEN class = 5.0\n",
      "None\n",
      "5.0\n",
      "None\n",
      "None\n",
      "None\n",
      "[5.0]\n"
     ]
    }
   ],
   "source": [
    "importlib.reload(mysklearn.myclassifiers)\n",
    "import os\n",
    "\n",
    "test_forest = MyRandomForestClassifier(n_trees=20, m=5, f=3)\n",
    "wine_table = MyPyTable()\n",
    "filename = os.path.join(\"data\", \"WineQT.csv\")\n",
    "wine_table.load_from_file(filename)\n",
    "X_train = dataset.get_normalized_columns(['fixed acidity', 'volatile acidity', 'citric acid', 'residual sugar', 'chlorides', 'free sulfur dioxide', 'total sulfur dioxide', 'density', 'pH', 'sulphates', 'alcohol'])\n",
    "y_train = dataset.get_column('quality')\n",
    "test_forest.fit(X, y)\n",
    "tree: MyDecisionTreeClassifier\n",
    "# print(test_forest.forest[0].tree)\n"
   ]
  },
  {
   "cell_type": "code",
   "execution_count": null,
   "metadata": {},
   "outputs": [],
   "source": []
  }
 ],
 "metadata": {
  "interpreter": {
   "hash": "c207b2b9ab46af0903c95bfe42197225e1c9055351e86037b89625af57d2154b"
  },
  "kernelspec": {
   "display_name": "Python 3.9.7",
   "language": "python",
   "name": "python3"
  },
  "language_info": {
   "codemirror_mode": {
    "name": "ipython",
    "version": 3
   },
   "file_extension": ".py",
   "mimetype": "text/x-python",
   "name": "python",
   "nbconvert_exporter": "python",
   "pygments_lexer": "ipython3",
   "version": "3.9.7"
  },
  "orig_nbformat": 4
 },
 "nbformat": 4,
 "nbformat_minor": 2
}
