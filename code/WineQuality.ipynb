{
 "cells": [
  {
   "cell_type": "markdown",
   "metadata": {},
   "source": [
    "# Wine Quality Classification"
   ]
  },
  {
   "cell_type": "code",
   "execution_count": 11,
   "metadata": {},
   "outputs": [
    {
     "data": {
      "text/plain": [
       "<module 'mysklearn.myevaluation' from '/home/finalProject/DSGroupProject/code/mysklearn/myevaluation.py'>"
      ]
     },
     "execution_count": 11,
     "metadata": {},
     "output_type": "execute_result"
    }
   ],
   "source": [
    "# some useful mysklearn package import statements and reloads\n",
    "import importlib\n",
    "\n",
    "import mysklearn.myutils\n",
    "importlib.reload(mysklearn.myutils)\n",
    "import mysklearn.myutils as myutils\n",
    "\n",
    "# uncomment once you paste your mypytable.py into mysklearn package\n",
    "import mysklearn.mypytable\n",
    "importlib.reload(mysklearn.mypytable)\n",
    "from mysklearn.mypytable import MyPyTable \n",
    "\n",
    "# uncomment once you paste your myclassifiers.py into mysklearn package\n",
    "import mysklearn.myclassifiers\n",
    "importlib.reload(mysklearn.myclassifiers)\n",
    "from mysklearn.myclassifiers import MyKNeighborsClassifier, MyDummyClassifier, MyNaiveBayesClassifier, MyDecisionTreeClassifier, MyRandomForestClassifier\n",
    "\n",
    "import mysklearn.myevaluation as myevaluation\n",
    "importlib.reload(myevaluation)"
   ]
  },
  {
   "cell_type": "markdown",
   "metadata": {},
   "source": [
    "### Preprocessing"
   ]
  },
  {
   "cell_type": "code",
   "execution_count": 12,
   "metadata": {},
   "outputs": [],
   "source": [
    "import copy\n",
    "dataset = MyPyTable().load_from_file('./data/WineQT.csv')\n",
    "\n",
    "# X_train = dataset.get_columns(['fixed acidity', 'citric acid', 'residual sugar', 'pH', 'sulphates', 'alcohol'])\n",
    "X_train = dataset.get_columns(['fixed acidity', 'citric acid', 'residual sugar', 'pH', 'sulphates', 'alcohol'])\n",
    "y_train = dataset.get_column('quality')\n",
    "# binned_X_cols = []\n",
    "# for col in range(len(X_train[0])):\n",
    "#     column = [row[col] for row in X_train]\n",
    "#     binned = myutils.bin_data(column)\n",
    "#     binned_X_cols.append(binned)\n",
    "# binned_X = []\n",
    "# for i in range(len(binned_X_cols)):\n",
    "#     row = [item[i] for item in binned_X_cols]\n",
    "#     binned_X.append(row)\n",
    "# X_train = binned_X"
   ]
  },
  {
   "cell_type": "markdown",
   "metadata": {},
   "source": [
    "### K-Nearest Neighbors"
   ]
  },
  {
   "cell_type": "code",
   "execution_count": 13,
   "metadata": {},
   "outputs": [
    {
     "name": "stdout",
     "output_type": "stream",
     "text": [
      "Accuracy: 0.6019247594050744\n",
      "Error rate: 0.3980752405949256\n"
     ]
    }
   ],
   "source": [
    "myutils.evaluate_model(MyKNeighborsClassifier(), X_train, y_train)"
   ]
  },
  {
   "cell_type": "markdown",
   "metadata": {},
   "source": [
    "### Dummy Classifier"
   ]
  },
  {
   "cell_type": "code",
   "execution_count": 14,
   "metadata": {},
   "outputs": [
    {
     "name": "stdout",
     "output_type": "stream",
     "text": [
      "Accuracy: 0.4225721784776903\n",
      "Error rate: 0.5774278215223096\n"
     ]
    }
   ],
   "source": [
    "myutils.evaluate_model(MyDummyClassifier(), X_train, y_train)"
   ]
  },
  {
   "cell_type": "markdown",
   "metadata": {},
   "source": [
    "### Naive Bayes"
   ]
  },
  {
   "cell_type": "code",
   "execution_count": 15,
   "metadata": {},
   "outputs": [
    {
     "name": "stdout",
     "output_type": "stream",
     "text": [
      "Accuracy: 0.5205599300087489\n",
      "Error rate: 0.4794400699912511\n"
     ]
    }
   ],
   "source": [
    "myutils.evaluate_model(MyNaiveBayesClassifier(), X_train, y_train)"
   ]
  },
  {
   "cell_type": "markdown",
   "metadata": {},
   "source": [
    "### Decision Tree"
   ]
  },
  {
   "cell_type": "code",
   "execution_count": 16,
   "metadata": {},
   "outputs": [
    {
     "name": "stdout",
     "output_type": "stream",
     "text": [
      "Accuracy: 0.5301837270341208\n",
      "Error rate: 0.46981627296587924\n"
     ]
    }
   ],
   "source": [
    "myutils.evaluate_model(MyDecisionTreeClassifier(), X_train, y_train)"
   ]
  },
  {
   "cell_type": "markdown",
   "metadata": {},
   "source": [
    "### Random Forest"
   ]
  },
  {
   "cell_type": "code",
   "execution_count": 17,
   "metadata": {},
   "outputs": [
    {
     "name": "stdout",
     "output_type": "stream",
     "text": [
      "Accuracy: 0.42694663167104113\n",
      "Error rate: 0.5730533683289589\n"
     ]
    }
   ],
   "source": [
    "myutils.evaluate_model(MyRandomForestClassifier(n_trees=20, m=5, f=3), X_train, y_train)"
   ]
  },
  {
   "cell_type": "code",
   "execution_count": 18,
   "metadata": {},
   "outputs": [
    {
     "name": "stdout",
     "output_type": "stream",
     "text": [
      "[5.0]\n"
     ]
    }
   ],
   "source": [
    "importlib.reload(mysklearn.myclassifiers)\n",
    "importlib.reload(mysklearn.myutils)\n",
    "import os\n",
    "\n",
    "test_forest = MyRandomForestClassifier(n_trees=20, m=5, f=3)\n",
    "wine_table = MyPyTable()\n",
    "filename = os.path.join(\"data\", \"WineQT.csv\")\n",
    "wine_table.load_from_file(filename)\n",
    "X_train = wine_table.get_columns(['fixed acidity', 'citric acid', 'residual sugar', 'pH', 'sulphates', 'alcohol'])\n",
    "y_train = wine_table.get_column('quality')\n",
    "test_forest.fit(X_train, y_train)\n",
    "test_instance = [7.1,0.0,1.9,3.47,0.55,9.4]\n",
    "test = myutils.bin_values([7.1,0.0,1.9,3.47,0.55,9.4], test_forest)\n",
    "print(test_forest.predict([test]))\n"
   ]
  },
  {
   "cell_type": "code",
   "execution_count": null,
   "metadata": {},
   "outputs": [],
   "source": []
  }
 ],
 "metadata": {
  "interpreter": {
   "hash": "c207b2b9ab46af0903c95bfe42197225e1c9055351e86037b89625af57d2154b"
  },
  "kernelspec": {
   "display_name": "Python 3.9.7",
   "language": "python",
   "name": "python3"
  },
  "language_info": {
   "codemirror_mode": {
    "name": "ipython",
    "version": 3
   },
   "file_extension": ".py",
   "mimetype": "text/x-python",
   "name": "python",
   "nbconvert_exporter": "python",
   "pygments_lexer": "ipython3",
   "version": "3.9.7"
  },
  "orig_nbformat": 4
 },
 "nbformat": 4,
 "nbformat_minor": 2
}
