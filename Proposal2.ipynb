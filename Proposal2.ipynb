{
 "cells": [
  {
   "cell_type": "markdown",
   "metadata": {},
   "source": [
    "# Credit Card Approval\n",
    "Trevor Diuco, Leo Winiecki"
   ]
  },
  {
   "cell_type": "markdown",
   "metadata": {},
   "source": [
    "## Dataset Description\n",
    "### Source, Format, Contents\n",
    "Our dataset is a wine quality dataset from Kaggle.\\\n",
    "Input variables (based on physicochemical tests):\\\n",
    "1 - fixed acidity\\\n",
    "2 - volatile acidity\\\n",
    "3 - citric acid\\\n",
    "4 - residual sugar\\\n",
    "5 - chlorides\\\n",
    "6 - free sulfur dioxide\\\n",
    "7 - total sulfur dioxide\\\n",
    "8 - density\\\n",
    "9 - pH\\\n",
    "10 - sulphates\\\n",
    "11 - alcohol\\\n",
    "### Class Label\n",
    "The class label is a quality score between 0 and 10.\n"
   ]
  },
  {
   "cell_type": "markdown",
   "metadata": {},
   "source": [
    "## Implementation/Technical Merit\n",
    "### Anticipated Challenges\n",
    "We might need more data in order to accurately predict the class label. Given that different credit card companies have different criteria for approval, can we predict a more useful class label than just whether the applicant was approved or not?"
   ]
  },
  {
   "cell_type": "markdown",
   "metadata": {},
   "source": [
    "## Potential Impact\n",
    "### Why are these results useful?\n",
    "These results are useful, because credit card companies need to make a decision about an applicant based on a lot of data. Using a data science algorithm could streamline the approach to make a decision.\n",
    "### Stakeholders\n",
    "Stakeholders interested in the results would include credit card companies and consumers interested in applying for a credit card."
   ]
  },
  {
   "cell_type": "markdown",
   "metadata": {},
   "source": []
  }
 ],
 "metadata": {
  "interpreter": {
   "hash": "c207b2b9ab46af0903c95bfe42197225e1c9055351e86037b89625af57d2154b"
  },
  "kernelspec": {
   "display_name": "Python 3.9.7 ('datascience')",
   "language": "python",
   "name": "python3"
  },
  "language_info": {
   "codemirror_mode": {
    "name": "ipython",
    "version": 3
   },
   "file_extension": ".py",
   "mimetype": "text/x-python",
   "name": "python",
   "nbconvert_exporter": "python",
   "pygments_lexer": "ipython3",
   "version": "3.9.7"
  },
  "orig_nbformat": 4
 },
 "nbformat": 4,
 "nbformat_minor": 2
}
