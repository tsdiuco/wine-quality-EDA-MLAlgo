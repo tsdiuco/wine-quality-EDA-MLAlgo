{
 "cells": [
  {
   "cell_type": "markdown",
   "metadata": {},
   "source": [
    "# Wine Quality Prediction\n",
    "Trevor Diuco, Leo Winiecki"
   ]
  },
  {
   "cell_type": "markdown",
   "metadata": {},
   "source": [
    "## Dataset Description\n",
    "### Source, Format, Contents\n",
    "Our dataset is a wine quality dataset from Kaggle.\\\n",
    "Our features are various chemical properties of the wine based on physicochemical tests:\\\n",
    "1 - fixed acidity\\\n",
    "2 - volatile acidity\\\n",
    "3 - citric acid\\\n",
    "4 - residual sugar\\\n",
    "5 - chlorides\\\n",
    "6 - free sulfur dioxide\\\n",
    "7 - total sulfur dioxide\\\n",
    "8 - density\\\n",
    "9 - pH\\\n",
    "10 - sulphates\\\n",
    "11 - alcohol\n",
    "### Class Label\n",
    "The class label is a quality score between 0 and 10.\n"
   ]
  },
  {
   "cell_type": "markdown",
   "metadata": {},
   "source": [
    "## Implementation/Technical Merit\n",
    "### Anticipated Challenges\n",
    "Our dataset is relatively niche, so if we don't achieve good results it could be difficult to join with other sources. The class labels are based on subjective measures of \"quality,\" so the meaning of the results is slightly ambiguous, since different wines are more or less valuable to different people."
   ]
  },
  {
   "cell_type": "markdown",
   "metadata": {},
   "source": [
    "## Potential Impact\n",
    "### Why are these results useful?\n",
    "Most people don't understand what makes a bottle of wine valuable.\n",
    "### Stakeholders\n",
    "Stakeholders in this prediction model would be wineries or wine consumers interested in the quality of their wine based on its chemical makeup."
   ]
  },
  {
   "cell_type": "markdown",
   "metadata": {},
   "source": []
  }
 ],
 "metadata": {
  "interpreter": {
   "hash": "c207b2b9ab46af0903c95bfe42197225e1c9055351e86037b89625af57d2154b"
  },
  "kernelspec": {
   "display_name": "Python 3.9.7 ('datascience')",
   "language": "python",
   "name": "python3"
  },
  "language_info": {
   "codemirror_mode": {
    "name": "ipython",
    "version": 3
   },
   "file_extension": ".py",
   "mimetype": "text/x-python",
   "name": "python",
   "nbconvert_exporter": "python",
   "pygments_lexer": "ipython3",
   "version": "3.9.7"
  },
  "orig_nbformat": 4
 },
 "nbformat": 4,
 "nbformat_minor": 2
}
